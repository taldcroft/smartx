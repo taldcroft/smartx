{
 "metadata": {
  "name": "optimal-bias"
 },
 "nbformat": 3,
 "nbformat_minor": 0,
 "worksheets": [
  {
   "cells": [
    {
     "cell_type": "markdown",
     "metadata": {},
     "source": [
      "## Study the residual stddev as a function of bias amplitude\n",
      "\n",
      "Based on Alexey's insight that the optimal bias might have actuator coefficients that hit the hard lower limit of zero, this is a simple investigation to plot residual standard deviation as a function of bias amplitude for the exemplar figure error case."
     ]
    },
    {
     "cell_type": "code",
     "collapsed": false,
     "input": [
      "%run -i calc_mtf"
     ],
     "language": "python",
     "metadata": {},
     "outputs": []
    },
    {
     "cell_type": "code",
     "collapsed": false,
     "input": [
      "error = displ_exemplar(ampl=1.0, apply_10_0=True)"
     ],
     "language": "python",
     "metadata": {},
     "outputs": []
    },
    {
     "cell_type": "markdown",
     "metadata": {},
     "source": [
      "### Compute NNLS solution for 10 bias amplitudes linearly spaced between 0 and 1.0\n",
      "\n",
      "In this case the coefficients are constrained to be positive."
     ]
    },
    {
     "cell_type": "code",
     "collapsed": false,
     "input": [
      "results = []\n",
      "bias_ampls = np.linspace(0, 1.0, 10)\n",
      "for bias_ampl in bias_ampls:\n",
      "    logger.info('\\n*** Bias amplitude: {}'.format(bias_ampl))\n",
      "    bias = displ_flat(bias_ampl)\n",
      "    out = calc_plot_adj(row_clip=2, col_clip=2, ax_clip=40, az_clip=80,\n",
      "                        bias=bias, error=error, plot_file=None, max_iter=0, nnls=True)\n",
      "    results.append(out)"
     ],
     "language": "python",
     "metadata": {},
     "outputs": []
    },
    {
     "cell_type": "code",
     "collapsed": false,
     "input": [
      "resid_stddevs = [result['resid_stddev'] for result in results]"
     ],
     "language": "python",
     "metadata": {},
     "outputs": []
    },
    {
     "cell_type": "code",
     "collapsed": false,
     "input": [
      "plot(bias_ampls, resid_stddevs, '-o')\n",
      "xlabel('Bias amplitude ($\\mu$m)')\n",
      "title('Residual stddev vs. bias amplitude')\n",
      "ylim(0, 0.1)\n",
      "grid()       "
     ],
     "language": "python",
     "metadata": {},
     "outputs": []
    },
    {
     "cell_type": "markdown",
     "metadata": {},
     "source": [
      "### Compute SVD solution for 10 bias amplitudes linearly spaced between 0 and 1.0\n",
      "\n",
      "In this case the coefficients are unconstrained."
     ]
    },
    {
     "cell_type": "code",
     "collapsed": false,
     "input": [
      "neg_results = []\n",
      "bias_ampls = np.linspace(0, 1.0, 10)\n",
      "for bias_ampl in bias_ampls:\n",
      "    logger.info('\\n*** Bias amplitude: {}'.format(bias_ampl))\n",
      "    bias = displ_flat(bias_ampl)\n",
      "    out = calc_plot_adj(row_clip=2, col_clip=2, ax_clip=40, az_clip=80,\n",
      "                        bias=bias, error=error, plot_file=None, max_iter=0, nnls=False)\n",
      "    neg_results.append(out)"
     ],
     "language": "python",
     "metadata": {},
     "outputs": []
    },
    {
     "cell_type": "code",
     "collapsed": false,
     "input": [
      "resid_stddevs = [result['resid_stddev'] for result in neg_results]\n",
      "coeffs_min = [result['coeffs_min'] for result in neg_results]"
     ],
     "language": "python",
     "metadata": {},
     "outputs": []
    },
    {
     "cell_type": "code",
     "collapsed": false,
     "input": [
      "plot(bias_ampls, coeffs_min, '-o')\n",
      "title('Minimum coefficient vs. bias ampl')\n",
      "grid()"
     ],
     "language": "python",
     "metadata": {},
     "outputs": []
    },
    {
     "cell_type": "code",
     "collapsed": false,
     "input": [
      "plot(bias_ampls, resid_stddevs, '-o')\n",
      "xlabel('Bias amplitude ($\\mu$m)')\n",
      "title('Residual stddev vs. bias amplitude')\n",
      "grid()"
     ],
     "language": "python",
     "metadata": {},
     "outputs": []
    },
    {
     "cell_type": "code",
     "collapsed": false,
     "input": [],
     "language": "python",
     "metadata": {},
     "outputs": []
    }
   ],
   "metadata": {}
  }
 ]
}