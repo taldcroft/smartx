{
 "metadata": {
  "name": "explore_ifuncs"
 },
 "nbformat": 3,
 "nbformat_minor": 0,
 "worksheets": [
  {
   "cells": [
    {
     "cell_type": "code",
     "collapsed": false,
     "input": [
      "from adj_opt_case import AdjOpticsCase\n",
      "aoc = AdjOpticsCase(case_id='10+0_baseline')\n",
      "coeffs = aoc.calc_coeffs('X').copy()"
     ],
     "language": "python",
     "metadata": {},
     "outputs": []
    },
    {
     "cell_type": "markdown",
     "metadata": {},
     "source": [
      "Response to uniform drive level for all actuators\n",
      "---------------------------------------------------"
     ]
    },
    {
     "cell_type": "code",
     "collapsed": false,
     "input": [
      "import ifunc\n",
      "coeffs = np.ones_like(coeffs)\n",
      "c = coeffs.copy()\n",
      "adj = ifunc.calc_adj_displ(aoc.ifuncs['X'], c)"
     ],
     "language": "python",
     "metadata": {},
     "outputs": []
    },
    {
     "cell_type": "markdown",
     "metadata": {},
     "source": [
      "### Displacement image and azimuthal slice along row 210"
     ]
    },
    {
     "cell_type": "code",
     "collapsed": false,
     "input": [
      "figure(figsize=(12,6))\n",
      "subplot(1, 2, 1)\n",
      "imshow(adj)\n",
      "colorbar(fraction=0.07)\n",
      "subplot(1, 2, 2)\n",
      "plot(adj[210, :])\n",
      "grid()"
     ],
     "language": "python",
     "metadata": {},
     "outputs": []
    },
    {
     "cell_type": "markdown",
     "metadata": {},
     "source": [
      "### Axial slices at 9 uniformly spaced azimuthal positions"
     ]
    },
    {
     "cell_type": "code",
     "collapsed": false,
     "input": [
      "figure(figsize=(12,12))\n",
      "cols = np.asarray(np.linspace(50, 750, 9), dtype=np.int)\n",
      "for ii in range(3):\n",
      "    for jj in range(3):\n",
      "        nn = ii * 3 + jj\n",
      "        subplot(3, 3, nn + 1)\n",
      "        plot(adj[:, cols[nn]])\n",
      "        grid()\n",
      "        title('Column {}'.format(cols[nn]))\n"
     ],
     "language": "python",
     "metadata": {},
     "outputs": []
    },
    {
     "cell_type": "code",
     "collapsed": false,
     "input": [
      "if False:\n",
      "    with open('/pool14/aldcroft/uniform_response.dat', 'w') as fh:\n",
      "        print >>fh, '# row column value'\n",
      "        for ii in range(adj.shape[0]):\n",
      "            for jj in range(adj.shape[1]):\n",
      "                print >>fh, ii, jj, adj[ii, jj]\n",
      "                "
     ],
     "language": "python",
     "metadata": {},
     "outputs": []
    },
    {
     "cell_type": "markdown",
     "metadata": {},
     "source": [
      "### Axial gradient"
     ]
    },
    {
     "cell_type": "code",
     "collapsed": false,
     "input": [
      "adj_ry = np.gradient(adj, 0.5 * 1000)[0]\n",
      "imshow(adj_ry)"
     ],
     "language": "python",
     "metadata": {},
     "outputs": []
    },
    {
     "cell_type": "markdown",
     "metadata": {},
     "source": [
      "Drive level donut pattern\n",
      "--------------------------\n",
      "**1.0 on the outside, 0.0 on the inside.**"
     ]
    },
    {
     "cell_type": "code",
     "collapsed": false,
     "input": [
      "co2d = coeffs.reshape(22,22).copy()\n",
      "co2d[5:17, 5:17] = 0\n",
      "imshow(co2d, interpolation='nearest')"
     ],
     "language": "python",
     "metadata": {},
     "outputs": []
    },
    {
     "cell_type": "code",
     "collapsed": false,
     "input": [
      "adj = ifunc.calc_adj_displ(aoc.ifuncs['X'], co2d.flatten())\n",
      "figure(figsize=(12,6))\n",
      "subplot(1, 2, 1)\n",
      "imshow(adj)\n",
      "colorbar(fraction=0.07)\n",
      "subplot(1, 2, 2)\n",
      "plot(adj[210, :])\n",
      "grid()"
     ],
     "language": "python",
     "metadata": {},
     "outputs": []
    },
    {
     "cell_type": "markdown",
     "metadata": {},
     "source": [
      "Examine individual influence functions near edge\n",
      "-------------------------------------------------\n",
      "\n",
      "This shows that at the edge there is a strong negative component for a positive drive level."
     ]
    },
    {
     "cell_type": "code",
     "collapsed": false,
     "input": [
      "ifx = aoc.ifuncs['X']\n",
      "ifx.shape"
     ],
     "language": "python",
     "metadata": {},
     "outputs": []
    },
    {
     "cell_type": "code",
     "collapsed": false,
     "input": [
      "ifx4d = ifx.reshape(22, 22, 411, 821)\n",
      "figure(figsize=(12,6))\n",
      "subplot(121)\n",
      "imshow(ifx4d[11, 0], vmin=-0.1, vmax=0.1)\n",
      "subplot(122)\n",
      "imshow(ifx4d[0, 0], vmin=-0.1, vmax=0.1)"
     ],
     "language": "python",
     "metadata": {},
     "outputs": []
    },
    {
     "cell_type": "markdown",
     "metadata": {},
     "source": [
      "### Sum the 22 influence functions at the left edge\n",
      "\n",
      "This is equivalent to setting all drive levels to 0.0 except for one column at the left edge which is at 1.0."
     ]
    },
    {
     "cell_type": "code",
     "collapsed": false,
     "input": [
      "im = np.sum(ifx4d[:, 0], axis=0)\n",
      "figure(figsize=(12, 6))\n",
      "subplot(1, 2, 1)\n",
      "imshow(im, vmin=-.5, vmax=.5)\n",
      "subplot(1, 2, 2)\n",
      "plot(im[200, :])\n",
      "grid()"
     ],
     "language": "python",
     "metadata": {},
     "outputs": []
    },
    {
     "cell_type": "code",
     "collapsed": false,
     "input": [
      "figure(figsize=(18,12))\n",
      "for col in range(22):\n",
      "    im = np.sum(ifx4d[3:19, col], axis=0)\n",
      "    plot(im[200, :])\n",
      "grid()"
     ],
     "language": "python",
     "metadata": {},
     "outputs": []
    },
    {
     "cell_type": "code",
     "collapsed": false,
     "input": [
      "figure(figsize=(18,12))\n",
      "for row in range(22):\n",
      "    im = np.sum(ifx4d[row, 5:17], axis=0)\n",
      "    plot(im[:, 400], lw=2)\n",
      "grid()"
     ],
     "language": "python",
     "metadata": {},
     "outputs": []
    },
    {
     "cell_type": "markdown",
     "metadata": {},
     "source": [
      "### Plot the central infuence function"
     ]
    },
    {
     "cell_type": "code",
     "collapsed": false,
     "input": [
      "figure(figsize=(12, 5))\n",
      "subplot(1, 2, 1)\n",
      "imshow(ifx4d[11,11], vmin=-0.1, vmax=.1)\n",
      "subplot(1, 2, 2)\n",
      "plot(ifx4d[11, 11, 220, :])\n",
      "grid()"
     ],
     "language": "python",
     "metadata": {},
     "outputs": []
    },
    {
     "cell_type": "code",
     "collapsed": false,
     "input": [
      "im = np.sum(ifx4d[:, 10], axis=0)\n",
      "figure(figsize=(12, 6))\n",
      "subplot(1, 2, 1)\n",
      "imshow(im, vmin=-.5, vmax=.5)\n",
      "subplot(1, 2, 2)\n",
      "plot(im[200, :])\n",
      "grid()\n",
      "xlim(300, 500)"
     ],
     "language": "python",
     "metadata": {},
     "outputs": []
    }
   ],
   "metadata": {}
  }
 ]
}