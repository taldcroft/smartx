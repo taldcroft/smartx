{
 "metadata": {
  "name": "uniform-coeff-bias"
 },
 "nbformat": 3,
 "nbformat_minor": 0,
 "worksheets": [
  {
   "cells": [
    {
     "cell_type": "code",
     "collapsed": false,
     "input": [
      "# Import all the functions from the calc_mtf.py module\n",
      "from calc_mtf import *"
     ],
     "language": "python",
     "metadata": {},
     "outputs": []
    },
    {
     "cell_type": "code",
     "collapsed": false,
     "input": [
      "ifuncs.shape"
     ],
     "language": "python",
     "metadata": {},
     "outputs": []
    },
    {
     "cell_type": "code",
     "collapsed": false,
     "input": [
      "# Import the module itself to ask for help on all functions\n",
      "import calc_mtf\n",
      "help(calc_mtf)"
     ],
     "language": "python",
     "metadata": {},
     "outputs": []
    },
    {
     "cell_type": "code",
     "collapsed": false,
     "input": [
      "# Define an error image and bias image\n",
      "error = displ_sin_ax(n_cycle=1.0, ampl=0.5, phase=0.0)\n",
      "bias = displ_flat(1.0)"
     ],
     "language": "python",
     "metadata": {},
     "outputs": []
    },
    {
     "cell_type": "code",
     "collapsed": false,
     "input": [
      "imshow(error.vals)"
     ],
     "language": "python",
     "metadata": {},
     "outputs": []
    },
    {
     "cell_type": "code",
     "collapsed": false,
     "input": [
      "# Compute the linear inversion solution for the given parameters.\n",
      "# Plot the results and return a Python dictionary ``out`` with the results.\n",
      "out = calc_plot_adj(row_clip=2, col_clip=2, ax_clip=40, az_clip=80,\n",
      "                    bias=bias, error=error, plot_file=None)"
     ],
     "language": "python",
     "metadata": {},
     "outputs": []
    },
    {
     "cell_type": "code",
     "collapsed": false,
     "input": [
      "# Print the available data values in ``out``\n",
      "sorted(out.keys())"
     ],
     "language": "python",
     "metadata": {},
     "outputs": []
    },
    {
     "cell_type": "code",
     "collapsed": false,
     "input": [
      "# Show the input error image\n",
      "imshow(out['error_img'])"
     ],
     "language": "python",
     "metadata": {},
     "outputs": []
    },
    {
     "cell_type": "code",
     "collapsed": false,
     "input": [
      "plot(out['error_img'][:, 400])"
     ],
     "language": "python",
     "metadata": {},
     "outputs": []
    },
    {
     "cell_type": "code",
     "collapsed": false,
     "input": [
      "out['input_stddev'] / out['resid_stddev']"
     ],
     "language": "python",
     "metadata": {},
     "outputs": []
    },
    {
     "cell_type": "code",
     "collapsed": false,
     "input": [
      "# Same exercise as above but use a bias that corresponds to a \n",
      "# uniform 100% drive level (100 ppm strain in each actuator).\n",
      "error = displ_sin_ax(n_cycle=1.0, ampl=0.5, phase=0.0)\n",
      "bias = displ_uniform_coeffs(1.0)\n",
      "out = calc_plot_adj(row_clip=2, col_clip=2, ax_clip=40, az_clip=80,\n",
      "                    bias=bias, error=error, plot_file=None)"
     ],
     "language": "python",
     "metadata": {},
     "outputs": []
    },
    {
     "cell_type": "code",
     "collapsed": false,
     "input": [
      "# Set ``resid`` variable to the residual image. Show the shape of the residual image\n",
      "resid = out['resid_img']\n",
      "resid.shape"
     ],
     "language": "python",
     "metadata": {},
     "outputs": []
    },
    {
     "cell_type": "code",
     "collapsed": false,
     "input": [
      "# Show the residual image full scale\n",
      "figure(figsize=(8, 3))\n",
      "imshow(resid)\n",
      "colorbar()"
     ],
     "language": "python",
     "metadata": {},
     "outputs": []
    },
    {
     "cell_type": "code",
     "collapsed": false,
     "input": [
      "# Show residual image between 0.5 and 99.5 percentiles (resid_min and resid_max)\n",
      "# using the ``vmin`` and ``vmax`` keyword arguments of ``imshow``.\n",
      "figure(figsize=(8, 3))\n",
      "imshow(resid, vmin=out['resid_min'], vmax=out['resid_max'])\n",
      "colorbar()"
     ],
     "language": "python",
     "metadata": {},
     "outputs": []
    },
    {
     "cell_type": "code",
     "collapsed": false,
     "input": [
      "# Plot a single row\n",
      "row = 205\n",
      "figure(figsize=(12, 4))\n",
      "\n",
      "subplot(1, 2, 1)  # 1 row, 2 columns, plot #1\n",
      "plot(out['resid_img'][row, :])\n",
      "ylabel('Residual $\\mu$m')\n",
      "grid()\n",
      "\n",
      "subplot(1, 2, 2)  # 1 row, 2 columns, plot #2\n",
      "plot(out['resid_img'][row, :])\n",
      "ylim(out['resid_min'], out['resid_max'])\n",
      "title('Residual row {}'.format(row))\n",
      "grid()"
     ],
     "language": "python",
     "metadata": {},
     "outputs": []
    },
    {
     "cell_type": "code",
     "collapsed": false,
     "input": [
      "plot(out['bias_img'][200, :])\n",
      "ylim(-1, 10)"
     ],
     "language": "python",
     "metadata": {},
     "outputs": []
    },
    {
     "cell_type": "code",
     "collapsed": false,
     "input": [
      "# Same exercise as above but use a bias that corresponds to a \n",
      "# uniform 100% drive level (100 ppm strain in each actuator).\n",
      "error = displ_sin_ax(n_cycle=1.0, ampl=0.5, phase=0.0)\n",
      "bias = displ_uniform_coeffs(1.0)\n",
      "out = calc_plot_adj(row_clip=1, col_clip=1, ax_clip=10, az_clip=20,\n",
      "                    bias=bias, error=error, plot_file=None)"
     ],
     "language": "python",
     "metadata": {},
     "outputs": []
    },
    {
     "cell_type": "code",
     "collapsed": false,
     "input": [
      "# Same exercise as above but use a bias that corresponds to a \n",
      "# uniform 100% drive level (100 ppm strain in each actuator).\n",
      "error = displ_sin_ax(n_cycle=1.0, ampl=0.25, phase=0.0)\n",
      "bias = displ_uniform_coeffs(1.5)\n",
      "out = calc_plot_adj(row_clip=2, col_clip=2, ax_clip=60, az_clip=120,\n",
      "                    bias=bias, error=error, plot_file=None)"
     ],
     "language": "python",
     "metadata": {},
     "outputs": []
    },
    {
     "cell_type": "code",
     "collapsed": false,
     "input": [
      "# Same exercise as above but use a bias that corresponds to a \n",
      "# uniform 100% drive level (100 ppm strain in each actuator).\n",
      "error = displ_sin_ax(n_cycle=1.0, ampl=0.5, phase=0.0)\n",
      "bias = displ_uniform_coeffs(1.0)\n",
      "out = calc_plot_adj(row_clip=2, col_clip=2, ax_clip=50, az_clip=100,\n",
      "                    bias=bias, error=error, plot_file=None)"
     ],
     "language": "python",
     "metadata": {},
     "outputs": []
    },
    {
     "cell_type": "code",
     "collapsed": false,
     "input": [
      "# Same exercise as above but use a bias that corresponds to a \n",
      "# uniform 100% drive level (100 ppm strain in each actuator).\n",
      "error = displ_sin_ax(n_cycle=1.0, ampl=0.5, phase=0.0)\n",
      "bias = displ_uniform_coeffs(1.0)\n",
      "out = calc_plot_adj(row_clip=2, col_clip=2, ax_clip=40, az_clip=80,\n",
      "                    bias=bias, error=error, plot_file=None)"
     ],
     "language": "python",
     "metadata": {},
     "outputs": []
    },
    {
     "cell_type": "code",
     "collapsed": false,
     "input": [
      "help(calc_plot_adj)"
     ],
     "language": "python",
     "metadata": {},
     "outputs": []
    },
    {
     "cell_type": "code",
     "collapsed": false,
     "input": [],
     "language": "python",
     "metadata": {},
     "outputs": []
    }
   ],
   "metadata": {}
  }
 ]
}