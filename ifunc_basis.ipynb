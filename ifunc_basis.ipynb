{
 "metadata": {
  "name": "ifunc_basis"
 },
 "nbformat": 3,
 "nbformat_minor": 0,
 "worksheets": [
  {
   "cells": [
    {
     "cell_type": "code",
     "collapsed": false,
     "input": [
      "from scipy.special import legendre\n",
      "import numpy as np\n",
      "import ifunc"
     ],
     "language": "python",
     "metadata": {},
     "outputs": []
    },
    {
     "cell_type": "code",
     "collapsed": false,
     "input": [
      "N_SS = 5\n",
      "\n",
      "if 'ifuncs' not in globals():\n",
      "    ifuncs = ifunc.load_ifuncs(case='10+0_baseline')\n",
      "    N_ROWS, N_COLS, N_AX, N_AZ = ifuncs.shape\n",
      "    displ_x_all, displ_ry_all = ifunc.load_displ_legendre(N_AX, N_AZ, offset_az=2)\n",
      "\n",
      "    i_ss, j_ss = np.mgrid[0:N_AX:N_SS, 0:N_AZ:N_SS]\n",
      "    M_3d_all = ifuncs.reshape(-1, N_AX, N_AZ)\n",
      "    M_3d = M_3d_all[:, i_ss, j_ss]\n",
      "    M_2d = M_3d.reshape(M_3d.shape[0], -1).transpose().copy()\n",
      "\n",
      "    displ_x = displ_x_all[i_ss, j_ss].flatten().copy()"
     ],
     "language": "python",
     "metadata": {},
     "outputs": []
    },
    {
     "cell_type": "code",
     "collapsed": false,
     "input": [
      "def calc_adj_displ(ifuncs, coeffs):\n",
      "    \"\"\"Return the adjusted displacement as a 2-d array for the given ``ifuncs``\n",
      "    and ``coeffs``.\n",
      "    \"\"\"\n",
      "    n_ax, n_az = ifuncs.shape[-2:]\n",
      "    M_3d_all = ifuncs.reshape(-1, n_ax, n_az)\n",
      "    M_2d_all = M_3d_all.reshape(M_3d_all.shape[0], -1).transpose()\n",
      "    adj = M_2d_all.dot(coeffs)\n",
      "    adj_2d = adj.reshape(n_ax, n_az)\n",
      "\n",
      "    return adj_2d"
     ],
     "language": "python",
     "metadata": {},
     "outputs": []
    },
    {
     "cell_type": "code",
     "collapsed": false,
     "input": [
      "i_ss.shape"
     ],
     "language": "python",
     "metadata": {},
     "outputs": []
    },
    {
     "cell_type": "code",
     "collapsed": false,
     "input": [
      "x = np.linspace(-1, 1, N_COLS)\n",
      "legendres = [legendre(i)(x) + 1 for i in range(N_COLS)]\n",
      "legendres.extend([1 - legendre(i)(x) for i in range(N_COLS)])\n",
      "legendres = np.array(legendres)"
     ],
     "language": "python",
     "metadata": {},
     "outputs": []
    },
    {
     "cell_type": "code",
     "collapsed": false,
     "input": [
      "for leg in legendres:\n",
      "    plot(leg)\n",
      "legendres.shape"
     ],
     "language": "python",
     "metadata": {},
     "outputs": []
    },
    {
     "cell_type": "code",
     "collapsed": false,
     "input": [
      "M_2d.shape"
     ],
     "language": "python",
     "metadata": {},
     "outputs": []
    },
    {
     "cell_type": "code",
     "collapsed": false,
     "input": [
      "figure(figsize=(12,8))\n",
      "for leg in legendres:\n",
      "    coeffs = np.tile(leg, (N_ROWS, 1)).flatten()\n",
      "    displ = M_2d.dot(coeffs).reshape(i_ss.shape)\n",
      "    plot(displ[40, :])\n",
      "ylim(-2, 5)\n",
      "grid()"
     ],
     "language": "python",
     "metadata": {},
     "outputs": []
    },
    {
     "cell_type": "code",
     "collapsed": false,
     "input": [
      "figure(figsize=(12,8))\n",
      "for leg in legendres:\n",
      "    coeffs = np.tile(leg, (N_ROWS, 1)).transpose().flatten()\n",
      "    displ = M_2d.dot(coeffs).reshape(i_ss.shape)\n",
      "    plot(displ[:, 82])\n",
      "ylim(-0.5, 1.5)\n",
      "grid()"
     ],
     "language": "python",
     "metadata": {},
     "outputs": []
    },
    {
     "cell_type": "code",
     "collapsed": false,
     "input": [],
     "language": "python",
     "metadata": {},
     "outputs": []
    }
   ],
   "metadata": {}
  }
 ]
}