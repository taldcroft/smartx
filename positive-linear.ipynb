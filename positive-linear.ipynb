{
 "metadata": {
  "name": "positive-linear"
 },
 "nbformat": 3,
 "nbformat_minor": 0,
 "worksheets": [
  {
   "cells": [
    {
     "cell_type": "markdown",
     "metadata": {},
     "source": [
      "# Cases where linear inversion gives positive coefficients\n",
      "\n",
      "This is an investigation of whether it is possible to specify a\n",
      "bias function, clipping region, and subset of actuators to \n",
      "guarantee that the resulting actuator drive levels are always\n",
      "positive.\n",
      "\n",
      "**Result**: Yes."
     ]
    },
    {
     "cell_type": "code",
     "collapsed": false,
     "input": [
      "import ifunc"
     ],
     "language": "python",
     "metadata": {},
     "outputs": []
    },
    {
     "cell_type": "code",
     "collapsed": false,
     "input": [
      "if 'ifuncs' not in globals():\n",
      "    ifuncs, displ = ifunc.get_ifuncs_displ()"
     ],
     "language": "python",
     "metadata": {},
     "outputs": []
    },
    {
     "cell_type": "markdown",
     "metadata": {},
     "source": [
      "### Flat input distortion (1 $\\mu m\\ $ )"
     ]
    },
    {
     "cell_type": "code",
     "collapsed": false,
     "input": [
      "displ[:, :] = 1.0"
     ],
     "language": "python",
     "metadata": {},
     "outputs": []
    },
    {
     "cell_type": "code",
     "collapsed": false,
     "input": [
      "row_slice = slice(4, -4)\n",
      "col_slice = slice(4, -4)\n",
      "ax_clip = 90\n",
      "az_clip = 170"
     ],
     "language": "python",
     "metadata": {},
     "outputs": []
    },
    {
     "cell_type": "code",
     "collapsed": false,
     "input": [
      "ifuncs_clip, displ_clip, M_2d = ifunc.clip_ifuncs_displ(ifuncs, displ,\n",
      "                row_slice=row_slice, col_slice=col_slice,\n",
      "                ax_clip=ax_clip, az_clip=az_clip)"
     ],
     "language": "python",
     "metadata": {},
     "outputs": []
    },
    {
     "cell_type": "code",
     "collapsed": false,
     "input": [
      "ifuncs_clip.shape"
     ],
     "language": "python",
     "metadata": {},
     "outputs": []
    },
    {
     "cell_type": "code",
     "collapsed": false,
     "input": [
      "ifuncs.shape"
     ],
     "language": "python",
     "metadata": {},
     "outputs": []
    },
    {
     "cell_type": "code",
     "collapsed": false,
     "input": [
      "displ_clip.shape"
     ],
     "language": "python",
     "metadata": {},
     "outputs": []
    },
    {
     "cell_type": "code",
     "collapsed": false,
     "input": [
      "coeffs = ifunc.calc_coeffs(ifuncs_clip, displ_clip, n_ss=None, clip=0)"
     ],
     "language": "python",
     "metadata": {},
     "outputs": []
    },
    {
     "cell_type": "code",
     "collapsed": false,
     "input": [
      "adj = ifunc.calc_adj_displ(ifuncs_clip, coeffs)"
     ],
     "language": "python",
     "metadata": {},
     "outputs": []
    },
    {
     "cell_type": "code",
     "collapsed": false,
     "input": [
      "imshow(adj)\n",
      "colorbar()"
     ],
     "language": "python",
     "metadata": {},
     "outputs": []
    },
    {
     "cell_type": "code",
     "collapsed": false,
     "input": [
      "coeffs_2d = coeffs.reshape(ifuncs_clip.shape[:2])"
     ],
     "language": "python",
     "metadata": {},
     "outputs": []
    },
    {
     "cell_type": "code",
     "collapsed": false,
     "input": [
      "plt_coeffs = np.zeros((22, 22))\n",
      "plt_coeffs[4:-4, 4:-4] = coeffs_2d\n",
      "imshow(plt_coeffs, interpolation='nearest')\n",
      "colorbar()"
     ],
     "language": "python",
     "metadata": {},
     "outputs": []
    },
    {
     "cell_type": "code",
     "collapsed": false,
     "input": [
      "np.min(coeffs)"
     ],
     "language": "python",
     "metadata": {},
     "outputs": []
    },
    {
     "cell_type": "code",
     "collapsed": false,
     "input": [
      "import numpy as np\n",
      "import matplotlib.pyplot as plt"
     ],
     "language": "python",
     "metadata": {},
     "outputs": []
    },
    {
     "cell_type": "code",
     "collapsed": false,
     "input": [
      "if 'ifuncs' not in globals():\n",
      "    ifuncs, displ = ifunc.get_ifuncs_displ()"
     ],
     "language": "python",
     "metadata": {},
     "outputs": []
    },
    {
     "cell_type": "code",
     "collapsed": false,
     "input": [
      "displ[:, :] = 1.0\n"
     ],
     "language": "python",
     "metadata": {},
     "outputs": []
    },
    {
     "cell_type": "markdown",
     "metadata": {},
     "source": [
      "### Put this all into a function"
     ]
    },
    {
     "cell_type": "code",
     "collapsed": false,
     "input": [
      "def calc_plot_adj(row_clip=4, col_clip=4, ax_clip=75, az_clip=150, displ=None):\n",
      "    row_slice = slice(row_clip, -row_clip) if row_clip else slice(None, None)\n",
      "    col_slice = slice(col_clip, -col_clip) if col_clip else slice(None, None)\n",
      "    ax_slice = slice(ax_clip, -ax_clip)\n",
      "    az_slice = slice(az_clip, -az_clip)\n",
      "    \n",
      "    if displ is None:\n",
      "        displ = np.ones(ifuncs.shape[2:4])\n",
      "        displ[0, 0] = 0\n",
      "\n",
      "    ifuncs_clip, displ_clip, M_2d = ifunc.clip_ifuncs_displ(\n",
      "        ifuncs, displ,\n",
      "        row_slice=row_slice, col_slice=col_slice,\n",
      "        ax_clip=ax_clip, az_clip=az_clip)\n",
      "\n",
      "    coeffs = ifunc.calc_coeffs(ifuncs_clip, displ_clip, n_ss=None, clip=0)\n",
      "    adj = ifunc.calc_adj_displ(ifuncs[row_slice, col_slice, :, :], coeffs)\n",
      "\n",
      "    ny, nx = ifuncs.shape[2:4]\n",
      "    clipbox_x = [az_clip, nx - az_clip, nx - az_clip, az_clip, az_clip]\n",
      "    clipbox_y = [ax_clip, ax_clip, ny - ax_clip, ny - ax_clip, ax_clip]\n",
      "\n",
      "    resid = displ - adj\n",
      "    vmin, vmax = np.percentile(resid[ax_slice, az_slice],\n",
      "                               [0.5, 99.5])\n",
      "    plt.figure()\n",
      "    plt.imshow(displ)\n",
      "    plt.title('Displacement')\n",
      "    plt.colorbar(fraction=0.07)\n",
      "    \n",
      "    plt.figure()\n",
      "    plt.imshow(resid, vmin=vmin, vmax=vmax)\n",
      "    ax = plt.gca()\n",
      "    ax.axison = False\n",
      "    ax.autoscale(enable=False)\n",
      "    plt.plot(clipbox_x, clipbox_y, '-m')\n",
      "    plt.title('Residual X')\n",
      "    plt.colorbar(fraction=0.07)\n",
      "\n",
      "    plt.figure()\n",
      "    coeffs_2d = coeffs.reshape(ifuncs_clip.shape[:2])\n",
      "    cimg = np.dstack([coeffs_2d, coeffs_2d]).reshape(coeffs_2d.shape[0],\n",
      "                                                     coeffs_2d.shape[1] * 2)\n",
      "    plt.imshow(cimg, interpolation='nearest')\n",
      "    plt.colorbar()"
     ],
     "language": "python",
     "metadata": {},
     "outputs": []
    },
    {
     "cell_type": "code",
     "collapsed": false,
     "input": [
      "calc_plot_adj()"
     ],
     "language": "python",
     "metadata": {},
     "outputs": []
    },
    {
     "cell_type": "code",
     "collapsed": false,
     "input": [
      "calc_plot_adj(3, 3, 60, 120)"
     ],
     "language": "python",
     "metadata": {},
     "outputs": []
    },
    {
     "cell_type": "code",
     "collapsed": false,
     "input": [
      "calc_plot_adj(2, 2, 40, 80)"
     ],
     "language": "python",
     "metadata": {},
     "outputs": []
    },
    {
     "cell_type": "code",
     "collapsed": false,
     "input": [
      "calc_plot_adj(1, 1, 20, 40)"
     ],
     "language": "python",
     "metadata": {},
     "outputs": []
    },
    {
     "cell_type": "code",
     "collapsed": false,
     "input": [
      "calc_plot_adj(1, 1, 10, 20)"
     ],
     "language": "python",
     "metadata": {},
     "outputs": []
    },
    {
     "cell_type": "code",
     "collapsed": false,
     "input": [
      "def displ_sin_ax(cycles=1, ampl=0.5, bias=1.0):\n",
      "    n_ax, n_az = ifuncs.shape[2:4]\n",
      "    x = np.arange(n_ax, dtype=float) / n_ax * 2 * np.pi * cycles\n",
      "    x = x.reshape(-1, 1)\n",
      "    return bias * np.ones((n_ax, n_az)) + np.sin(x) * ampl\n",
      "\n",
      "def displ_sin_az(cycles=1, ampl=0.5, bias=1.0):\n",
      "    n_ax, n_az = ifuncs.shape[2:4]\n",
      "    x = np.arange(n_az, dtype=float) / n_az * 2 * np.pi * cycles\n",
      "    x = x.reshape(1, -1)\n",
      "    return bias * np.ones((n_ax, n_az)) + np.sin(x) * ampl"
     ],
     "language": "python",
     "metadata": {},
     "outputs": []
    },
    {
     "cell_type": "code",
     "collapsed": false,
     "input": [
      "displ = displ_sin_az(cycles=5)\n",
      "imshow(displ)"
     ],
     "language": "python",
     "metadata": {},
     "outputs": []
    },
    {
     "cell_type": "code",
     "collapsed": false,
     "input": [
      "calc_plot_adj(2, 2, 40, 80, displ=displ_sin_ax(cycles=4,  bias=1.5))"
     ],
     "language": "python",
     "metadata": {},
     "outputs": []
    },
    {
     "cell_type": "code",
     "collapsed": false,
     "input": [
      "calc_plot_adj(2, 2, 40, 100, displ=displ_sin_az(cycles=1.5,  bias=1.5))"
     ],
     "language": "python",
     "metadata": {},
     "outputs": []
    }
   ],
   "metadata": {}
  }
 ]
}