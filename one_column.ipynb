{
 "metadata": {
  "name": "one_column"
 },
 "nbformat": 3,
 "nbformat_minor": 0,
 "worksheets": [
  {
   "cells": [
    {
     "cell_type": "markdown",
     "metadata": {},
     "source": [
      "# Investigate nonlinear fitting using a 1-d problem subset\n",
      "\n",
      "The primary problem with the linear inversion solution is the presence of non-physical negative drive voltages in the solution.  Another problem is the unstable swing from large negative to large positive values near the edge.\n",
      "\n",
      "In order to understand how to transition from the accurate but unphysical linear inversion solution to a non-linear fit solution, one idea is to reduce down to essentially a 1-d problem in the center of the mirror using a single axial strip of actuators.  This reduces the computational time and would allow real-time investigation of the behavior of the non-linear fit results.\n",
      "\n",
      "There are two related questions that need to be addressed:\n",
      "\n",
      "- For cases where the linear inversion gives negative coefficients, is there any all-positive solution that provides comparable correction performance.\n",
      "- Is there some criteria that can define the space of bias functions which will guarantee positive coefficients?"
     ]
    },
    {
     "cell_type": "markdown",
     "metadata": {},
     "source": [
      "### Initialize data"
     ]
    },
    {
     "cell_type": "code",
     "collapsed": false,
     "input": [
      "run nonlinear-fit/iter_fit.py"
     ],
     "language": "python",
     "metadata": {},
     "outputs": []
    },
    {
     "cell_type": "code",
     "collapsed": false,
     "input": [
      "import ifunc"
     ],
     "language": "python",
     "metadata": {},
     "outputs": []
    },
    {
     "cell_type": "code",
     "collapsed": false,
     "input": [
      "force_init = False"
     ],
     "language": "python",
     "metadata": {},
     "outputs": []
    },
    {
     "cell_type": "code",
     "collapsed": false,
     "input": [
      "if force_init or 'ifuncs' not in globals():\n",
      "    ifuncs = ifunc.load_ifuncs(case='10+0_baseline/')"
     ],
     "language": "python",
     "metadata": {},
     "outputs": []
    },
    {
     "cell_type": "code",
     "collapsed": false,
     "input": [
      "if force_init or 'displ_x_all' not in globals():\n",
      "    n_rows, n_cols, n_ax, n_az = ifuncs.shape\n",
      "    displ_x_all, displ_ry_all = ifunc.load_displ_legendre(n_ax, n_az, offset_az=2)"
     ],
     "language": "python",
     "metadata": {},
     "outputs": []
    },
    {
     "cell_type": "markdown",
     "metadata": {},
     "source": [
      "### Select a single axial strip of actuators"
     ]
    },
    {
     "cell_type": "code",
     "collapsed": false,
     "input": [
      "icol = 5\n",
      "ifuncs_col10 = ifuncs[:, icol, :, :]"
     ],
     "language": "python",
     "metadata": {},
     "outputs": []
    },
    {
     "cell_type": "code",
     "collapsed": false,
     "input": [
      "ifuncs_col10_sum = ifuncs_col10.sum(axis=0)"
     ],
     "language": "python",
     "metadata": {},
     "outputs": []
    },
    {
     "cell_type": "markdown",
     "metadata": {},
     "source": [
      "#### Plot the response for all actuators driven at a uniform drive level"
     ]
    },
    {
     "cell_type": "code",
     "collapsed": false,
     "input": [
      "imshow(ifuncs_col10_sum)\n"
     ],
     "language": "python",
     "metadata": {},
     "outputs": []
    },
    {
     "cell_type": "markdown",
     "metadata": {},
     "source": [
      "#### Cut along the azimuthal direction in the mirror center"
     ]
    },
    {
     "cell_type": "code",
     "collapsed": false,
     "input": [
      "plot(ifuncs_col10_sum[200, :])"
     ],
     "language": "python",
     "metadata": {},
     "outputs": []
    },
    {
     "cell_type": "markdown",
     "metadata": {},
     "source": [
      "#### Cut along the axial direction at the point of peak response"
     ]
    },
    {
     "cell_type": "code",
     "collapsed": false,
     "input": [
      "ii = ifuncs_col10_sum[200, :].argmax()\n",
      "plot(ifuncs_col10_sum[:, ii])"
     ],
     "language": "python",
     "metadata": {},
     "outputs": []
    },
    {
     "cell_type": "markdown",
     "metadata": {},
     "source": [
      "### Reduce to a quasi-1d solution\n",
      "\n",
      "This selects a single axial strip of actuators and considers the response along 2 axial pixels."
     ]
    },
    {
     "cell_type": "code",
     "collapsed": false,
     "input": [
      "ifuncs_clip, displ_x_clip, M_2d = ifunc.clip_ifuncs_displ(ifuncs, displ_x_all, ax_clip=0,\n",
      "                                                    az_clip=(ii - 3, ii + 3), \n",
      "                                                    col_slice=slice(icol, icol + 1))"
     ],
     "language": "python",
     "metadata": {},
     "outputs": []
    },
    {
     "cell_type": "code",
     "collapsed": false,
     "input": [
      "ifuncs_clip.shape"
     ],
     "language": "python",
     "metadata": {},
     "outputs": []
    },
    {
     "cell_type": "code",
     "collapsed": false,
     "input": [
      "n_rows, n_cols, n_ax, n_az = ifuncs.shape\n",
      "n_az"
     ],
     "language": "python",
     "metadata": {},
     "outputs": []
    },
    {
     "cell_type": "code",
     "collapsed": false,
     "input": [
      "coeffs = calc_inversion_solution(ifuncs_clip, displ_x_clip, n_ss=0, clip=None)"
     ],
     "language": "python",
     "metadata": {},
     "outputs": []
    },
    {
     "cell_type": "code",
     "collapsed": false,
     "input": [
      "coeffs"
     ],
     "language": "python",
     "metadata": {},
     "outputs": []
    },
    {
     "cell_type": "markdown",
     "metadata": {},
     "source": [
      "#### Plot drive level coefficients along the axial strip\n",
      "\n",
      "For reasons I don't understand, this is \"well behaved\" and does not show the oscillations seen in the full 2-d solution."
     ]
    },
    {
     "cell_type": "code",
     "collapsed": false,
     "input": [
      "plot(coeffs)"
     ],
     "language": "python",
     "metadata": {},
     "outputs": []
    },
    {
     "cell_type": "code",
     "collapsed": false,
     "input": [
      "adj_2d = calc_adj_displ(ifuncs_clip, coeffs)"
     ],
     "language": "python",
     "metadata": {},
     "outputs": []
    },
    {
     "cell_type": "code",
     "collapsed": false,
     "input": [
      "adj_2d.shape"
     ],
     "language": "python",
     "metadata": {},
     "outputs": []
    },
    {
     "cell_type": "code",
     "collapsed": false,
     "input": [
      "displ_x_clip.shape"
     ],
     "language": "python",
     "metadata": {},
     "outputs": []
    },
    {
     "cell_type": "code",
     "collapsed": false,
     "input": [
      "displ_x_clip_2d = displ_x_clip.reshape(-1, 2)\n",
      "displ_x_clip_2d.shape"
     ],
     "language": "python",
     "metadata": {},
     "outputs": []
    },
    {
     "cell_type": "markdown",
     "metadata": {},
     "source": [
      "#### Great solution!"
     ]
    },
    {
     "cell_type": "code",
     "collapsed": false,
     "input": [
      "plot(displ_x_clip_2d[:, 0])\n",
      "plot(adj_2d[:, 0])"
     ],
     "language": "python",
     "metadata": {},
     "outputs": []
    },
    {
     "cell_type": "markdown",
     "metadata": {},
     "source": [
      "#### Corresponding axial strip in the full 2-d solution"
     ]
    },
    {
     "cell_type": "code",
     "collapsed": false,
     "input": [
      "coeffs = calc_inversion_solution(ifuncs, displ_x_all, n_ss=5, clip=0)"
     ],
     "language": "python",
     "metadata": {},
     "outputs": []
    },
    {
     "cell_type": "code",
     "collapsed": false,
     "input": [
      "plot(coeffs.reshape(22, 22)[:, icol])"
     ],
     "language": "python",
     "metadata": {},
     "outputs": []
    },
    {
     "cell_type": "code",
     "collapsed": false,
     "input": [
      "adj_displ = calc_adj_displ(ifuncs, coeffs)"
     ],
     "language": "python",
     "metadata": {},
     "outputs": []
    },
    {
     "cell_type": "code",
     "collapsed": false,
     "input": [
      "plot(adj_displ[:, ii])\n",
      "plot(displ_x_all[:, ii])"
     ],
     "language": "python",
     "metadata": {},
     "outputs": []
    },
    {
     "cell_type": "code",
     "collapsed": false,
     "input": [
      "coeffs = calc_inversion_solution(ifuncs, displ_x_all, n_ss=5, clip=25)"
     ],
     "language": "python",
     "metadata": {},
     "outputs": []
    },
    {
     "cell_type": "code",
     "collapsed": false,
     "input": [
      "coeffs2d = coeffs.reshape(22, 22)\n",
      "imshow(coeffs2d, interpolation='nearest', vmin=-8, vmax=8)\n",
      "colorbar()"
     ],
     "language": "python",
     "metadata": {},
     "outputs": []
    },
    {
     "cell_type": "code",
     "collapsed": false,
     "input": [
      "out = hist(coeffs, bins=50, log=True)"
     ],
     "language": "python",
     "metadata": {},
     "outputs": []
    },
    {
     "cell_type": "code",
     "collapsed": false,
     "input": [
      "plot(coeffs2d[:, 5])"
     ],
     "language": "python",
     "metadata": {},
     "outputs": []
    },
    {
     "cell_type": "code",
     "collapsed": false,
     "input": [],
     "language": "python",
     "metadata": {},
     "outputs": []
    }
   ],
   "metadata": {}
  }
 ]
}