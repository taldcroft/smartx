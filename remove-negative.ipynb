{
 "metadata": {
  "name": "remove-negative"
 },
 "nbformat": 3,
 "nbformat_minor": 0,
 "worksheets": [
  {
   "cells": [
    {
     "cell_type": "markdown",
     "metadata": {},
     "source": [
      "# Iterative removal of negative coefficients\n",
      "\n",
      "This version of `calc_mtf.py` introduces a new parameter `max_iter` which allows for iterative removal of negative coefficient values.  Each time a coefficient is found to be negative then the actuator is effectively removed and the inversion process repeated.  This removal iteration is done up to `max_iter` times."
     ]
    },
    {
     "cell_type": "code",
     "collapsed": false,
     "input": [
      "%run -i calc_mtf"
     ],
     "language": "python",
     "metadata": {},
     "outputs": []
    },
    {
     "cell_type": "code",
     "collapsed": false,
     "input": [
      "N_PROC = 2  # Number of available processors"
     ],
     "language": "python",
     "metadata": {},
     "outputs": []
    },
    {
     "cell_type": "markdown",
     "metadata": {},
     "source": [
      "## Flat bias (bias_ampl=1.0, error_ampl=0.5)\n",
      "\n",
      "### max_iter = 0"
     ]
    },
    {
     "cell_type": "code",
     "collapsed": false,
     "input": [
      "# Define an error image and bias image\n",
      "error = displ_sin_ax(n_cycle=1.0, ampl=1.0, phase=0.0)\n",
      "bias = displ_flat(1.0)\n",
      "# Compute the linear inversion solution for the given parameters.\n",
      "# Plot the results and return a Python dictionary ``out`` with the results.\n",
      "out = calc_plot_adj(row_clip=2, col_clip=2, ax_clip=40, az_clip=80,\n",
      "                    bias=bias, error=error, plot_file=None, max_iter=0, nnls=False)"
     ],
     "language": "python",
     "metadata": {},
     "outputs": []
    },
    {
     "cell_type": "code",
     "collapsed": false,
     "input": [
      "run -i ifunc.py"
     ],
     "language": "python",
     "metadata": {},
     "outputs": []
    },
    {
     "cell_type": "code",
     "collapsed": false,
     "input": [
      "error_stats = calc_scatter(out['error_img'], ax_clip=out['ax_clip'], az_clip=out['az_clip'], n_proc=N_PROC)"
     ],
     "language": "python",
     "metadata": {},
     "outputs": []
    },
    {
     "cell_type": "code",
     "collapsed": false,
     "input": [
      "resid_stats = calc_scatter(out['resid_img'], ax_clip=out['ax_clip'], az_clip=out['az_clip'], n_proc=N_PROC)"
     ],
     "language": "python",
     "metadata": {},
     "outputs": []
    },
    {
     "cell_type": "code",
     "collapsed": false,
     "input": [
      "resid_stats"
     ],
     "language": "python",
     "metadata": {},
     "outputs": []
    },
    {
     "cell_type": "code",
     "collapsed": false,
     "input": [
      "plot_scatter_intensity(error_stats, resid_stats)"
     ],
     "language": "python",
     "metadata": {},
     "outputs": []
    },
    {
     "cell_type": "heading",
     "level": 3,
     "metadata": {},
     "source": [
      "max_iter = 1"
     ]
    },
    {
     "cell_type": "code",
     "collapsed": false,
     "input": [
      "# Try one round of negative pixel removal\n",
      "out = calc_plot_adj(row_clip=2, col_clip=2, ax_clip=40, az_clip=80,\n",
      "                    bias=bias, error=error, plot_file=None, max_iter=1)"
     ],
     "language": "python",
     "metadata": {},
     "outputs": []
    },
    {
     "cell_type": "heading",
     "level": 3,
     "metadata": {},
     "source": [
      "max_iter = 10"
     ]
    },
    {
     "cell_type": "code",
     "collapsed": false,
     "input": [
      "# See if up to 10 iterations of negative pixel removal will converge\n",
      "out = calc_plot_adj(row_clip=2, col_clip=2, ax_clip=40, az_clip=80,\n",
      "                    bias=bias, error=error, plot_file=None, max_iter=10)"
     ],
     "language": "python",
     "metadata": {},
     "outputs": []
    },
    {
     "cell_type": "code",
     "collapsed": false,
     "input": [
      "# See if up to 10 iterations of negative pixel removal will converge\n",
      "out = calc_plot_adj(row_clip=2, col_clip=2, ax_clip=40, az_clip=80,\n",
      "                    bias=bias, error=error, plot_file=None, max_iter=0, nnls=True)"
     ],
     "language": "python",
     "metadata": {},
     "outputs": []
    },
    {
     "cell_type": "code",
     "collapsed": false,
     "input": [
      "error_stats = calc_scatter(out['error_img'], ax_clip=out['ax_clip'], az_clip=out['az_clip'], n_proc=N_PROC)\n",
      "resid_stats = calc_scatter(out['resid_img'], ax_clip=out['ax_clip'], az_clip=out['az_clip'], n_proc=N_PROC)"
     ],
     "language": "python",
     "metadata": {},
     "outputs": []
    },
    {
     "cell_type": "code",
     "collapsed": false,
     "input": [
      "plot_scatter_intensity(error_stats, resid_stats)"
     ],
     "language": "python",
     "metadata": {},
     "outputs": []
    },
    {
     "cell_type": "markdown",
     "metadata": {},
     "source": [
      "## Uniform coefficents bias (bias_ampl=1.0, error_ampl=0.5)\n",
      "\n",
      "### max_iter = 0"
     ]
    },
    {
     "cell_type": "code",
     "collapsed": false,
     "input": [
      "# Define an error image and bias image\n",
      "error = displ_sin_ax(n_cycle=1.0, ampl=0.5, phase=0.0)\n",
      "bias = displ_uniform_coeffs(1.0)\n",
      "# Compute the linear inversion solution for the given parameters.\n",
      "# Plot the results and return a Python dictionary ``out`` with the results.\n",
      "out = calc_plot_adj(row_clip=2, col_clip=2, ax_clip=40, az_clip=80,\n",
      "                    bias=bias, error=error, plot_file=None, max_iter=0)"
     ],
     "language": "python",
     "metadata": {},
     "outputs": []
    },
    {
     "cell_type": "code",
     "collapsed": false,
     "input": [
      "# Define an error image and bias image\n",
      "error = displ_sin_ax(n_cycle=1.0, ampl=0.5, phase=0.0)\n",
      "bias = displ_uniform_coeffs(1.0)\n",
      "# Compute the linear inversion solution for the given parameters.\n",
      "# Plot the results and return a Python dictionary ``out`` with the results.\n",
      "out = calc_plot_adj(row_clip=2, col_clip=2, ax_clip=40, az_clip=80,\n",
      "                    bias=bias, error=error, plot_file=None, max_iter=10)"
     ],
     "language": "python",
     "metadata": {},
     "outputs": []
    },
    {
     "cell_type": "code",
     "collapsed": false,
     "input": [
      "# Define an error image and bias image\n",
      "error = displ_exemplar(ampl=1.0, apply_10_0=True)\n",
      "bias = displ_flat(1.0)\n",
      "# Compute the linear inversion solution for the given parameters.\n",
      "# Plot the results and return a Python dictionary ``out`` with the results.\n",
      "out = calc_plot_adj(row_clip=2, col_clip=2, ax_clip=40, az_clip=80,\n",
      "                    bias=bias, error=error, plot_file=None, max_iter=0)"
     ],
     "language": "python",
     "metadata": {},
     "outputs": []
    },
    {
     "cell_type": "code",
     "collapsed": false,
     "input": [
      "error_stats = calc_scatter(out['error_img'], ax_clip=out['ax_clip'], az_clip=out['az_clip'], n_proc=N_PROC)\n",
      "resid_stats = calc_scatter(out['resid_img'], ax_clip=out['ax_clip'], az_clip=out['az_clip'], n_proc=N_PROC)\n",
      "plot_scatter_intensity(error_stats, resid_stats)"
     ],
     "language": "python",
     "metadata": {},
     "outputs": []
    },
    {
     "cell_type": "code",
     "collapsed": false,
     "input": [
      "# Define an error image and bias image\n",
      "error = displ_exemplar(ampl=1.0, apply_10_0=True)\n",
      "bias = displ_flat(0.0)\n",
      "# Compute the linear inversion solution for the given parameters.\n",
      "# Plot the results and return a Python dictionary ``out`` with the results.\n",
      "out = calc_plot_adj(row_clip=2, col_clip=2, ax_clip=40, az_clip=80,\n",
      "                    bias=bias, error=error, plot_file=None, max_iter=0)"
     ],
     "language": "python",
     "metadata": {},
     "outputs": []
    },
    {
     "cell_type": "markdown",
     "metadata": {},
     "source": [
      "Compare to http://hea-www.harvard.edu/~aldcroft/tmp/reports/10+0_baseline/1/index.html"
     ]
    },
    {
     "cell_type": "code",
     "collapsed": false,
     "input": [
      "error_stats = calc_scatter(out['error_img'], ax_clip=out['ax_clip'], az_clip=out['az_clip'], n_proc=N_PROC)\n",
      "resid_stats = calc_scatter(out['resid_img'], ax_clip=out['ax_clip'], az_clip=out['az_clip'], n_proc=N_PROC)\n",
      "plot_scatter_intensity(error_stats, resid_stats)"
     ],
     "language": "python",
     "metadata": {},
     "outputs": []
    },
    {
     "cell_type": "code",
     "collapsed": false,
     "input": [],
     "language": "python",
     "metadata": {},
     "outputs": []
    }
   ],
   "metadata": {}
  }
 ]
}