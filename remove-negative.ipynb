{
 "metadata": {
  "name": "remove-negative"
 },
 "nbformat": 3,
 "nbformat_minor": 0,
 "worksheets": [
  {
   "cells": [
    {
     "cell_type": "markdown",
     "metadata": {},
     "source": [
      "# Iterative removal of negative coefficients\n",
      "\n",
      "This version of `calc_mtf.py` introduces a new parameter `max_iter` which allows for iterative removal of negative coefficient values.  Each time a coefficient is found to be negative then the actuator is effectively removed and the inversion process repeated.  This removal iteration is done up to `max_iter` times."
     ]
    },
    {
     "cell_type": "code",
     "collapsed": false,
     "input": [
      "%run -i calc_mtf"
     ],
     "language": "python",
     "metadata": {},
     "outputs": []
    },
    {
     "cell_type": "markdown",
     "metadata": {},
     "source": [
      "## Flat bias (bias_ampl=1.0, error_ampl=0.5)\n",
      "\n",
      "### max_iter = 0"
     ]
    },
    {
     "cell_type": "code",
     "collapsed": false,
     "input": [
      "# Define an error image and bias image\n",
      "error = displ_sin_ax(n_cycle=1.0, ampl=1.0, phase=0.0)\n",
      "bias = displ_flat(1.0)\n",
      "# Compute the linear inversion solution for the given parameters.\n",
      "# Plot the results and return a Python dictionary ``out`` with the results.\n",
      "out = calc_plot_adj(row_clip=2, col_clip=2, ax_clip=40, az_clip=80,\n",
      "                    bias=bias, error=error, plot_file=None, max_iter=0)"
     ],
     "language": "python",
     "metadata": {},
     "outputs": []
    },
    {
     "cell_type": "heading",
     "level": 3,
     "metadata": {},
     "source": [
      "max_iter = 1"
     ]
    },
    {
     "cell_type": "code",
     "collapsed": false,
     "input": [
      "# Try one round of negative pixel removal\n",
      "out = calc_plot_adj(row_clip=2, col_clip=2, ax_clip=40, az_clip=80,\n",
      "                    bias=bias, error=error, plot_file=None, max_iter=1)"
     ],
     "language": "python",
     "metadata": {},
     "outputs": []
    },
    {
     "cell_type": "heading",
     "level": 3,
     "metadata": {},
     "source": [
      "max_iter = 10"
     ]
    },
    {
     "cell_type": "code",
     "collapsed": false,
     "input": [
      "# See if up to 10 iterations of negative pixel removal will converge\n",
      "out = calc_plot_adj(row_clip=2, col_clip=2, ax_clip=40, az_clip=80,\n",
      "                    bias=bias, error=error, plot_file=None, max_iter=10)"
     ],
     "language": "python",
     "metadata": {},
     "outputs": []
    },
    {
     "cell_type": "markdown",
     "metadata": {},
     "source": [
      "## Uniform coefficents bias (bias_ampl=1.0, error_ampl=0.5)\n",
      "\n",
      "### max_iter = 0"
     ]
    },
    {
     "cell_type": "code",
     "collapsed": false,
     "input": [
      "# Define an error image and bias image\n",
      "error = displ_sin_ax(n_cycle=1.0, ampl=0.5, phase=0.0)\n",
      "bias = displ_uniform_coeffs(1.0)\n",
      "# Compute the linear inversion solution for the given parameters.\n",
      "# Plot the results and return a Python dictionary ``out`` with the results.\n",
      "out = calc_plot_adj(row_clip=2, col_clip=2, ax_clip=40, az_clip=80,\n",
      "                    bias=bias, error=error, plot_file=None, max_iter=0)"
     ],
     "language": "python",
     "metadata": {},
     "outputs": []
    },
    {
     "cell_type": "code",
     "collapsed": false,
     "input": [
      "# Define an error image and bias image\n",
      "error = displ_sin_ax(n_cycle=1.0, ampl=0.5, phase=0.0)\n",
      "bias = displ_uniform_coeffs(1.0)\n",
      "# Compute the linear inversion solution for the given parameters.\n",
      "# Plot the results and return a Python dictionary ``out`` with the results.\n",
      "out = calc_plot_adj(row_clip=2, col_clip=2, ax_clip=40, az_clip=80,\n",
      "                    bias=bias, error=error, plot_file=None, max_iter=10)"
     ],
     "language": "python",
     "metadata": {},
     "outputs": []
    },
    {
     "cell_type": "code",
     "collapsed": false,
     "input": [],
     "language": "python",
     "metadata": {},
     "outputs": []
    }
   ],
   "metadata": {}
  }
 ]
}