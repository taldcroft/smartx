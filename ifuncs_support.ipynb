{
 "metadata": {
  "name": "ifuncs_support"
 },
 "nbformat": 3,
 "nbformat_minor": 0,
 "worksheets": [
  {
   "cells": [
    {
     "cell_type": "code",
     "collapsed": false,
     "input": [
      "import ifunc\n",
      "if 'ifuncs' not in globals():\n",
      "    ifuncs = ifunc.load_ifuncs(case='10+0_baseline')\n"
     ],
     "language": "python",
     "metadata": {},
     "outputs": []
    },
    {
     "cell_type": "code",
     "collapsed": false,
     "input": [
      "if0 = ifuncs[11, 11]\n",
      "imshow(if0)\n",
      "colorbar()\n",
      "n_row, n_col, n_ax, n_az = ifuncs.shape\n",
      "if0 /= np.max(if0)"
     ],
     "language": "python",
     "metadata": {},
     "outputs": []
    },
    {
     "cell_type": "code",
     "collapsed": false,
     "input": [
      "imshow(np.log10(np.abs(if0) + 1e-5), vmin=-2)\n",
      "colorbar()"
     ],
     "language": "python",
     "metadata": {},
     "outputs": []
    },
    {
     "cell_type": "code",
     "collapsed": false,
     "input": [
      "sy = float(ifuncs.shape[2]) / ifuncs.shape[0]\n",
      "sx = float(ifuncs.shape[3]) / ifuncs.shape[1]"
     ],
     "language": "python",
     "metadata": {},
     "outputs": []
    },
    {
     "cell_type": "code",
     "collapsed": false,
     "input": [
      "i = np.argmax(if0)\n",
      "iy0, ix0 = np.unravel_index(i, if0.shape)"
     ],
     "language": "python",
     "metadata": {},
     "outputs": []
    },
    {
     "cell_type": "code",
     "collapsed": false,
     "input": [
      "iy, ix = np.mgrid[0:n_ax, 0:n_az]"
     ],
     "language": "python",
     "metadata": {},
     "outputs": []
    },
    {
     "cell_type": "code",
     "collapsed": false,
     "input": [
      "r2 = ((ix - ix0) / sx) ** 2 + ((iy - iy0) / sy) ** 2\n",
      "r2 = np.where(r2 < 1, 1, r2)"
     ],
     "language": "python",
     "metadata": {},
     "outputs": []
    },
    {
     "cell_type": "code",
     "collapsed": false,
     "input": [
      "imshow(np.sqrt(r2))\n",
      "colorbar()"
     ],
     "language": "python",
     "metadata": {},
     "outputs": []
    },
    {
     "cell_type": "code",
     "collapsed": false,
     "input": [
      "imshow(abs(if0 * r2), vmin=0.)\n",
      "colorbar()"
     ],
     "language": "python",
     "metadata": {},
     "outputs": []
    },
    {
     "cell_type": "code",
     "collapsed": false,
     "input": [
      "r_acts = []\n",
      "ys = []\n",
      "for r in range(22):\n",
      "    for c in range(22):\n",
      "        r_act = np.sqrt((r-11)**2 + (c-11)**2)\n",
      "        r_acts.append(r_act)\n",
      "        ys.append(np.abs(ifuncs[r, c, 210, 420]))\n",
      "r_acts = np.array(r_acts)\n",
      "ys = np.array(ys)\n",
      "# semilogy(r_acts, ys, '.')\n",
      "bins = np.arange(17)\n",
      "r_sums = []\n",
      "for b0, b1 in zip(bins[:-1], bins[1:]):\n",
      "    ok = (r_acts > b0) & (r_acts <= b1)\n",
      "    r_sums.append(np.sum(ys[ok]))\n",
      "print r_sums\n",
      "plot(bins[1:], r_sums / np.sum(r_sums))"
     ],
     "language": "python",
     "metadata": {},
     "outputs": []
    }
   ],
   "metadata": {}
  }
 ]
}